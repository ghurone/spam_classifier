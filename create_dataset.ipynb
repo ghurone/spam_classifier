{
 "cells": [
  {
   "cell_type": "code",
   "execution_count": 1,
   "id": "cd4dae17-b131-462e-a0c8-b464c20b22d4",
   "metadata": {
    "tags": []
   },
   "outputs": [],
   "source": [
    "import ast\n",
    "import os\n",
    "import shutil\n",
    "import tarfile\n",
    "from urllib.parse import urljoin\n",
    "\n",
    "from utils.pre_processing import email_text, text_tokenizer, get_text, email, parse_html\n",
    "\n",
    "import requests \n",
    "import pandas as pd\n",
    "from bs4 import BeautifulSoup\n",
    "from tqdm.notebook import tqdm"
   ]
  },
  {
   "cell_type": "markdown",
   "id": "23e13ff7-5d02-4f1b-aa19-d9d8be5655dc",
   "metadata": {},
   "source": [
    "# Download"
   ]
  },
  {
   "cell_type": "code",
   "execution_count": 2,
   "id": "33afd4b4-ad80-481d-9a4d-47e982e6bcb6",
   "metadata": {
    "tags": []
   },
   "outputs": [],
   "source": [
    "url = 'https://spamassassin.apache.org/old/publiccorpus/'\n",
    "url_obsolete = 'https://spamassassin.apache.org/old/publiccorpus/obsolete/'"
   ]
  },
  {
   "cell_type": "code",
   "execution_count": 3,
   "id": "7780e339-adf6-484c-ac28-955476b33402",
   "metadata": {
    "tags": []
   },
   "outputs": [],
   "source": [
    "root_dir = 'arquivos'"
   ]
  },
  {
   "cell_type": "code",
   "execution_count": 4,
   "id": "eaee80df-a454-4a15-8ae8-a4ecd5baeca1",
   "metadata": {
    "tags": []
   },
   "outputs": [],
   "source": [
    "os.mkdir(root_dir)"
   ]
  },
  {
   "cell_type": "code",
   "execution_count": 5,
   "id": "d693b154-3677-4a03-b28d-21fe2133cc38",
   "metadata": {
    "tags": []
   },
   "outputs": [],
   "source": [
    "def download_arquivos(url):\n",
    "    req = requests.get(url)\n",
    "    soup = BeautifulSoup(req.text)\n",
    "    links = soup.find_all('a', attrs={'href':lambda x: x.endswith('tar.bz2')})\n",
    "    \n",
    "    for tag in links:\n",
    "        nome_arquivo = tag['href']\n",
    "        url_arquivo = urljoin(url, tag['href'])\n",
    "        req = requests.get(url_arquivo)\n",
    "        \n",
    "        with open(os.path.join(root_dir, nome_arquivo), 'wb') as file:\n",
    "            file.write(req.content)"
   ]
  },
  {
   "cell_type": "code",
   "execution_count": 6,
   "id": "9300fcf1-cef5-4d49-9133-8f0b66ed459c",
   "metadata": {
    "tags": []
   },
   "outputs": [],
   "source": [
    "download_arquivos(url_obsolete)\n",
    "download_arquivos(url)"
   ]
  },
  {
   "cell_type": "markdown",
   "id": "ae4c42d8-8f35-4762-a27d-4160e42f93be",
   "metadata": {},
   "source": [
    "# Dataset"
   ]
  },
  {
   "cell_type": "code",
   "execution_count": 7,
   "id": "e64073a0-bb0c-4f11-b4cb-132270d54ab6",
   "metadata": {
    "tags": []
   },
   "outputs": [
    {
     "data": {
      "application/vnd.jupyter.widget-view+json": {
       "model_id": "a6eeb1b37d38492da3f9a16d86b16b27",
       "version_major": 2,
       "version_minor": 0
      },
      "text/plain": [
       "  0%|          | 0/18 [00:00<?, ?it/s]"
      ]
     },
     "metadata": {},
     "output_type": "display_data"
    }
   ],
   "source": [
    "for arquivo in tqdm(os.listdir(root_dir)):\n",
    "    path_tar = os.path.join(root_dir, arquivo)\n",
    "    pasta = arquivo.removesuffix('.tar.bz2')\n",
    "    \n",
    "    tar_file = tarfile.open(path_tar)\n",
    "    tar_file.extractall(path=os.path.join(root_dir, pasta))\n",
    "    tar_file.close()\n",
    "    \n",
    "    os.remove(path_tar)"
   ]
  },
  {
   "cell_type": "code",
   "execution_count": 8,
   "id": "ff1b09e5-aca5-45fe-a64f-36e4d0e16782",
   "metadata": {
    "tags": []
   },
   "outputs": [
    {
     "data": {
      "application/vnd.jupyter.widget-view+json": {
       "model_id": "3160eda1adcb4e36bbc8417acc078413",
       "version_major": 2,
       "version_minor": 0
      },
      "text/plain": [
       "  0%|          | 0/18 [00:00<?, ?it/s]"
      ]
     },
     "metadata": {},
     "output_type": "display_data"
    }
   ],
   "source": [
    "for pasta in tqdm(os.listdir(root_dir)):\n",
    "    for subpasta in os.listdir(os.path.join(root_dir, pasta)):\n",
    "        for arquivo in os.listdir(os.path.join(root_dir, pasta, subpasta)):\n",
    "            filepath = os.path.join(root_dir, pasta, subpasta, arquivo)\n",
    "            shutil.move(filepath, os.path.join(root_dir, pasta, arquivo))\n",
    "            \n",
    "        os.rmdir(os.path.join(root_dir, pasta, subpasta))"
   ]
  },
  {
   "cell_type": "code",
   "execution_count": 9,
   "id": "b4291095-d3e4-4da6-ae4c-a4091c6475d9",
   "metadata": {},
   "outputs": [
    {
     "data": {
      "application/vnd.jupyter.widget-view+json": {
       "model_id": "dbf5e0a6520f4319b4e1dcba587d435d",
       "version_major": 2,
       "version_minor": 0
      },
      "text/plain": [
       "  0%|          | 0/18 [00:00<?, ?it/s]"
      ]
     },
     "metadata": {},
     "output_type": "display_data"
    },
    {
     "data": {
      "application/vnd.jupyter.widget-view+json": {
       "model_id": "",
       "version_major": 2,
       "version_minor": 0
      },
      "text/plain": [
       "  0%|          | 0/1400 [00:00<?, ?it/s]"
      ]
     },
     "metadata": {},
     "output_type": "display_data"
    },
    {
     "data": {
      "application/vnd.jupyter.widget-view+json": {
       "model_id": "",
       "version_major": 2,
       "version_minor": 0
      },
      "text/plain": [
       "  0%|          | 0/1401 [00:00<?, ?it/s]"
      ]
     },
     "metadata": {},
     "output_type": "display_data"
    },
    {
     "data": {
      "application/vnd.jupyter.widget-view+json": {
       "model_id": "",
       "version_major": 2,
       "version_minor": 0
      },
      "text/plain": [
       "  0%|          | 0/251 [00:00<?, ?it/s]"
      ]
     },
     "metadata": {},
     "output_type": "display_data"
    },
    {
     "data": {
      "application/vnd.jupyter.widget-view+json": {
       "model_id": "",
       "version_major": 2,
       "version_minor": 0
      },
      "text/plain": [
       "  0%|          | 0/2500 [00:00<?, ?it/s]"
      ]
     },
     "metadata": {},
     "output_type": "display_data"
    },
    {
     "data": {
      "application/vnd.jupyter.widget-view+json": {
       "model_id": "",
       "version_major": 2,
       "version_minor": 0
      },
      "text/plain": [
       "  0%|          | 0/2551 [00:00<?, ?it/s]"
      ]
     },
     "metadata": {},
     "output_type": "display_data"
    },
    {
     "data": {
      "application/vnd.jupyter.widget-view+json": {
       "model_id": "",
       "version_major": 2,
       "version_minor": 0
      },
      "text/plain": [
       "  0%|          | 0/501 [00:00<?, ?it/s]"
      ]
     },
     "metadata": {},
     "output_type": "display_data"
    },
    {
     "data": {
      "application/vnd.jupyter.widget-view+json": {
       "model_id": "",
       "version_major": 2,
       "version_minor": 0
      },
      "text/plain": [
       "  0%|          | 0/250 [00:00<?, ?it/s]"
      ]
     },
     "metadata": {},
     "output_type": "display_data"
    },
    {
     "data": {
      "application/vnd.jupyter.widget-view+json": {
       "model_id": "",
       "version_major": 2,
       "version_minor": 0
      },
      "text/plain": [
       "  0%|          | 0/250 [00:00<?, ?it/s]"
      ]
     },
     "metadata": {},
     "output_type": "display_data"
    },
    {
     "data": {
      "application/vnd.jupyter.widget-view+json": {
       "model_id": "",
       "version_major": 2,
       "version_minor": 0
      },
      "text/plain": [
       "  0%|          | 0/501 [00:00<?, ?it/s]"
      ]
     },
     "metadata": {},
     "output_type": "display_data"
    },
    {
     "data": {
      "application/vnd.jupyter.widget-view+json": {
       "model_id": "",
       "version_major": 2,
       "version_minor": 0
      },
      "text/plain": [
       "  0%|          | 0/500 [00:00<?, ?it/s]"
      ]
     },
     "metadata": {},
     "output_type": "display_data"
    },
    {
     "data": {
      "application/vnd.jupyter.widget-view+json": {
       "model_id": "",
       "version_major": 2,
       "version_minor": 0
      },
      "text/plain": [
       "  0%|          | 0/2501 [00:00<?, ?it/s]"
      ]
     },
     "metadata": {},
     "output_type": "display_data"
    },
    {
     "data": {
      "application/vnd.jupyter.widget-view+json": {
       "model_id": "",
       "version_major": 2,
       "version_minor": 0
      },
      "text/plain": [
       "  0%|          | 0/1398 [00:00<?, ?it/s]"
      ]
     },
     "metadata": {},
     "output_type": "display_data"
    },
    {
     "data": {
      "application/vnd.jupyter.widget-view+json": {
       "model_id": "",
       "version_major": 2,
       "version_minor": 0
      },
      "text/plain": [
       "  0%|          | 0/501 [00:00<?, ?it/s]"
      ]
     },
     "metadata": {},
     "output_type": "display_data"
    },
    {
     "data": {
      "application/vnd.jupyter.widget-view+json": {
       "model_id": "",
       "version_major": 2,
       "version_minor": 0
      },
      "text/plain": [
       "  0%|          | 0/1400 [00:00<?, ?it/s]"
      ]
     },
     "metadata": {},
     "output_type": "display_data"
    },
    {
     "data": {
      "application/vnd.jupyter.widget-view+json": {
       "model_id": "",
       "version_major": 2,
       "version_minor": 0
      },
      "text/plain": [
       "  0%|          | 0/1400 [00:00<?, ?it/s]"
      ]
     },
     "metadata": {},
     "output_type": "display_data"
    },
    {
     "data": {
      "application/vnd.jupyter.widget-view+json": {
       "model_id": "",
       "version_major": 2,
       "version_minor": 0
      },
      "text/plain": [
       "  0%|          | 0/250 [00:00<?, ?it/s]"
      ]
     },
     "metadata": {},
     "output_type": "display_data"
    },
    {
     "data": {
      "application/vnd.jupyter.widget-view+json": {
       "model_id": "",
       "version_major": 2,
       "version_minor": 0
      },
      "text/plain": [
       "  0%|          | 0/2551 [00:00<?, ?it/s]"
      ]
     },
     "metadata": {},
     "output_type": "display_data"
    },
    {
     "data": {
      "application/vnd.jupyter.widget-view+json": {
       "model_id": "",
       "version_major": 2,
       "version_minor": 0
      },
      "text/plain": [
       "  0%|          | 0/1397 [00:00<?, ?it/s]"
      ]
     },
     "metadata": {},
     "output_type": "display_data"
    }
   ],
   "source": [
    "dicio = {'date': [], 'category': [], 'email': [], 'is_spam':[]}\n",
    "for pasta in tqdm(os.listdir(root_dir), leave=True):\n",
    "    date, categoria = pasta.split('_', 1)\n",
    "    is_spam = 1 if 'spam' in categoria else 0\n",
    "    \n",
    "    for arquivo in tqdm(os.listdir(os.path.join(root_dir, pasta)), leave=False):\n",
    "        \n",
    "        with open(os.path.join(root_dir, pasta, arquivo), 'rb') as file:\n",
    "            content = file.read()\n",
    "            \n",
    "        dicio['date'].append(pd.to_datetime(date, format='%Y%m%d'))\n",
    "        dicio['category'].append(categoria)\n",
    "        dicio['email'].append(content)\n",
    "        dicio['is_spam'].append(is_spam)\n",
    "\n",
    "shutil.rmtree(root_dir)\n",
    "df = pd.DataFrame(dicio)"
   ]
  },
  {
   "cell_type": "code",
   "execution_count": 10,
   "id": "8d985777-5044-4326-8949-e4038abdd193",
   "metadata": {
    "tags": []
   },
   "outputs": [
    {
     "data": {
      "text/html": [
       "<div>\n",
       "<style scoped>\n",
       "    .dataframe tbody tr th:only-of-type {\n",
       "        vertical-align: middle;\n",
       "    }\n",
       "\n",
       "    .dataframe tbody tr th {\n",
       "        vertical-align: top;\n",
       "    }\n",
       "\n",
       "    .dataframe thead th {\n",
       "        text-align: right;\n",
       "    }\n",
       "</style>\n",
       "<table border=\"1\" class=\"dataframe\">\n",
       "  <thead>\n",
       "    <tr style=\"text-align: right;\">\n",
       "      <th></th>\n",
       "      <th>date</th>\n",
       "      <th>category</th>\n",
       "      <th>email</th>\n",
       "      <th>is_spam</th>\n",
       "    </tr>\n",
       "  </thead>\n",
       "  <tbody>\n",
       "    <tr>\n",
       "      <th>0</th>\n",
       "      <td>2002-12-04</td>\n",
       "      <td>spam_2</td>\n",
       "      <td>b'From lvi300702@free.fr  Tue Aug  6 12:50:59 ...</td>\n",
       "      <td>1</td>\n",
       "    </tr>\n",
       "    <tr>\n",
       "      <th>1</th>\n",
       "      <td>2002-12-04</td>\n",
       "      <td>spam_2</td>\n",
       "      <td>b'Received: from hq.pro-ns.net (localhost [127...</td>\n",
       "      <td>1</td>\n",
       "    </tr>\n",
       "    <tr>\n",
       "      <th>2</th>\n",
       "      <td>2002-12-04</td>\n",
       "      <td>spam_2</td>\n",
       "      <td>b'From jm@netnoteinc.com  Mon Jun 24 17:52:12 ...</td>\n",
       "      <td>1</td>\n",
       "    </tr>\n",
       "    <tr>\n",
       "      <th>3</th>\n",
       "      <td>2002-12-04</td>\n",
       "      <td>spam_2</td>\n",
       "      <td>b'From edum@hkem.com  Mon Jun 24 17:04:26 2002...</td>\n",
       "      <td>1</td>\n",
       "    </tr>\n",
       "    <tr>\n",
       "      <th>4</th>\n",
       "      <td>2002-12-04</td>\n",
       "      <td>spam_2</td>\n",
       "      <td>b'From blissptht65@yahoo.com  Thu Jul 12 06:33...</td>\n",
       "      <td>1</td>\n",
       "    </tr>\n",
       "  </tbody>\n",
       "</table>\n",
       "</div>"
      ],
      "text/plain": [
       "        date category                                              email  \\\n",
       "0 2002-12-04   spam_2  b'From lvi300702@free.fr  Tue Aug  6 12:50:59 ...   \n",
       "1 2002-12-04   spam_2  b'Received: from hq.pro-ns.net (localhost [127...   \n",
       "2 2002-12-04   spam_2  b'From jm@netnoteinc.com  Mon Jun 24 17:52:12 ...   \n",
       "3 2002-12-04   spam_2  b'From edum@hkem.com  Mon Jun 24 17:04:26 2002...   \n",
       "4 2002-12-04   spam_2  b'From blissptht65@yahoo.com  Thu Jul 12 06:33...   \n",
       "\n",
       "   is_spam  \n",
       "0        1  \n",
       "1        1  \n",
       "2        1  \n",
       "3        1  \n",
       "4        1  "
      ]
     },
     "execution_count": 10,
     "metadata": {},
     "output_type": "execute_result"
    }
   ],
   "source": [
    "df.head()"
   ]
  },
  {
   "cell_type": "code",
   "execution_count": 13,
   "id": "7eb1c800-c505-4cf6-805c-b38c11ca41d6",
   "metadata": {
    "tags": []
   },
   "outputs": [],
   "source": [
    "df.to_feather('spamassassin.feather')"
   ]
  },
  {
   "cell_type": "code",
   "execution_count": 14,
   "id": "6af3e2c3-9319-4248-b929-99375d85fdde",
   "metadata": {
    "tags": []
   },
   "outputs": [],
   "source": [
    "df2 = pd.read_feather('spamassassin.feather')"
   ]
  },
  {
   "cell_type": "code",
   "execution_count": null,
   "id": "4579a554-39b9-4f11-919d-6ac32aa1b929",
   "metadata": {
    "tags": []
   },
   "outputs": [
    {
     "name": "stdout",
     "output_type": "stream",
     "text": [
      "Parsing emails...\n",
      "Getting emails' text...\n",
      "Cleaning emails' text...\n"
     ]
    },
    {
     "name": "stderr",
     "output_type": "stream",
     "text": [
      "100%|█████████████████████████████████████| 21503/21503 [04:26<00:00, 80.58it/s]\n"
     ]
    }
   ],
   "source": [
    "email_text = email_text(df['email'])\n",
    "df['email_parsed'] = text_tokenizer(email_text)\n",
    "df.to_feather('spamassassin_parsed.feather')"
   ]
  }
 ],
 "metadata": {
  "kernelspec": {
   "display_name": "Python 3 (ipykernel)",
   "language": "python",
   "name": "python3"
  },
  "language_info": {
   "codemirror_mode": {
    "name": "ipython",
    "version": 3
   },
   "file_extension": ".py",
   "mimetype": "text/x-python",
   "name": "python",
   "nbconvert_exporter": "python",
   "pygments_lexer": "ipython3",
   "version": "3.11.4"
  }
 },
 "nbformat": 4,
 "nbformat_minor": 5
}
